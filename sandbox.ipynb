{
 "cells": [
  {
   "cell_type": "markdown",
   "metadata": {},
   "source": [
    "# Setup"
   ]
  },
  {
   "cell_type": "code",
   "execution_count": null,
   "metadata": {},
   "outputs": [
    {
     "name": "stderr",
     "output_type": "stream",
     "text": [
      "/Users/bma-vandijk/VScode/whisper_welzijnAI/venv/lib/python3.12/site-packages/tqdm/auto.py:21: TqdmWarning: IProgress not found. Please update jupyter and ipywidgets. See https://ipywidgets.readthedocs.io/en/stable/user_install.html\n",
      "  from .autonotebook import tqdm as notebook_tqdm\n"
     ]
    }
   ],
   "source": [
    "import os\n",
    "\n",
    "# Helper functions\n",
    "from utils.segment_audio import segment_audio_file\n",
    "from utils.convert_m4a_to_wav import convert_m4a_to_wav\n",
    "from utils.transcribe import transcribe_segments\n",
    "from utils.check_mono import check_and_convert_to_mono\n",
    "from utils.process_gold_transcripts import process_gold_transcripts\n",
    "from utils.wer_evaluator import *\n",
    "from utils.counters import *\n",
    "\n",
    "# Load WER metric\n",
    "from evaluate import load\n",
    "\n",
    "# Constants\n",
    "RAW_DATA_DIR = os.path.join('data', 'raw')\n",
    "CONVERTED_DATA_DIR = os.path.join('data', 'converted')\n",
    "REFERENCE_TRANSCRIPTS_DIR = os.path.join('data', 'reference_transcripts')\n",
    "OUTPUT_DIR = 'output'\n",
    "MAX_SEGMENT_LENGTH = 30 * 1000  # 30 seconds in milliseconds\n",
    "\n",
    "# Read API key from .secrets/hf_api_key.txt\n",
    "with open(os.path.join('.secrets', 'hf_api_key.txt'), 'r') as file:\n",
    "    AUTH_TOKEN = file.read().strip()\n",
    "\n",
    "# List of Whisper models to use\n",
    "MODELS = [\n",
    "    \"golesheed/whisper-native-elderly-9-dutch\",\n",
    "    \"golesheed/wav2vec2-xls-r-1b-dutch\",\n",
    "    \"openai/whisper-large-v3\",\n",
    "    \"openai/whisper-large-v2\",\n",
    "    \"openai/whisper-small\",\n",
    "    \"openai/whisper-medium\",\n",
    "    #\"ibm-granite/granite-speech-3.3-2b\"\n",
    "]"
   ]
  },
  {
   "cell_type": "markdown",
   "metadata": {},
   "source": [
    "# Reformat fragments"
   ]
  },
  {
   "cell_type": "code",
   "execution_count": 2,
   "metadata": {},
   "outputs": [],
   "source": [
    "# Correct filenames and formats\n",
    "for filename in os.listdir(RAW_DATA_DIR):\n",
    "    if filename == '.DS_Store':\n",
    "        continue\n",
    "    match = re.search(r'(\\d+)', filename)\n",
    "    if match:\n",
    "        number = match.group(1)\n",
    "        new_filename = f\"interaction_R{number}{os.path.splitext(filename)[1]}\"\n",
    "        old_path = os.path.join(RAW_DATA_DIR, filename)\n",
    "        new_path = os.path.join(RAW_DATA_DIR, new_filename)\n",
    "        os.rename(old_path, new_path)\n",
    "        convert_m4a_to_wav(new_filename) "
   ]
  },
  {
   "cell_type": "markdown",
   "metadata": {},
   "source": [
    "# Segment fragments"
   ]
  },
  {
   "cell_type": "code",
   "execution_count": 3,
   "metadata": {},
   "outputs": [],
   "source": [
    "# Obtain short segments of audio for each speaker from the original recordings in data/raw\n",
    "# Save in data/converted, do some manual cleanup afterwards and remove segments of Welzijn.AI bot or experimenter\n",
    "for filename in os.listdir(CONVERTED_DATA_DIR):\n",
    "            file_path = os.path.join(CONVERTED_DATA_DIR, filename)\n",
    "            segment_audio_file(file_path, OUTPUT_DIR)\n"
   ]
  },
  {
   "cell_type": "markdown",
   "metadata": {},
   "source": [
    "# Convert fragments to mono"
   ]
  },
  {
   "cell_type": "code",
   "execution_count": null,
   "metadata": {},
   "outputs": [],
   "source": [
    "check_and_convert_to_mono(os.path.join(OUTPUT_DIR, \"segments\"))"
   ]
  },
  {
   "cell_type": "markdown",
   "metadata": {},
   "source": [
    "# Transcribe fragments"
   ]
  },
  {
   "cell_type": "code",
   "execution_count": 4,
   "metadata": {},
   "outputs": [],
   "source": [
    "#transcribe_segments(MODELS[:1])"
   ]
  },
  {
   "cell_type": "markdown",
   "metadata": {},
   "source": [
    "# Pre- and postprocess transcription formats"
   ]
  },
  {
   "cell_type": "code",
   "execution_count": 2,
   "metadata": {},
   "outputs": [
    {
     "name": "stdout",
     "output_type": "stream",
     "text": [
      "Processed files from: data/reference_transcripts/orthographic\n",
      "  Orthographic_clean: data/reference_transcripts/orthographic_clean\n",
      "  Normalized: data/reference_transcripts/normalized\n"
     ]
    }
   ],
   "source": [
    "# Create different sets of gold transcripts for different types of WER evaluation\n",
    "process_gold_transcripts()"
   ]
  },
  {
   "cell_type": "markdown",
   "metadata": {},
   "source": [
    "# Compute WER"
   ]
  },
  {
   "cell_type": "markdown",
   "metadata": {},
   "source": [
    "## Orthographic clean"
   ]
  },
  {
   "cell_type": "code",
   "execution_count": null,
   "metadata": {},
   "outputs": [
    {
     "name": "stdout",
     "output_type": "stream",
     "text": [
      "WER for whisper-native-elderly-9-dutch: 0.42\n",
      "WER for wav2vec2-xls-r-1b-dutch: 0.58\n",
      "WER for whisper-large-v3: 0.08\n",
      "WER for whisper-large-v2: 0.15\n",
      "WER for whisper-small: 0.23\n",
      "WER for whisper-medium: 0.16\n"
     ]
    }
   ],
   "source": [
    "# Load WER metric\n",
    "wer_metric = load(\"wer\")\n",
    "\n",
    "# Load reference transcripts with fillers removed, but where no further normalisation is done.\n",
    "# I.e. capitals and punctuation are preserved. This seems most fitting for whisper-large v3 and v2, and small and medium,\n",
    "# that predict punctuation and capitals. It is less fitting for Dutch Whisper model for older individuals,\n",
    "# as it does not predict punctuation and capitals, but does predict fillers\n",
    "reference_orth_clean = read_reference_transcripts('data/reference_transcripts/orthographic_clean')\n",
    "\n",
    "for m in [m.split('/')[-1] for m in MODELS]:\n",
    "    wer = wer_metric.compute(references=reference_orth_clean, predictions=read_asr_transcripts()[m])\n",
    "    print(f\"WER for {m}: {wer:.2f}\")"
   ]
  },
  {
   "cell_type": "code",
   "execution_count": 5,
   "metadata": {},
   "outputs": [
    {
     "name": "stdout",
     "output_type": "stream",
     "text": [
      "WER for whisper-native-elderly-9-dutch: 0.16\n",
      "WER for wav2vec2-xls-r-1b-dutch: 0.54\n",
      "WER for whisper-large-v3: 0.34\n",
      "WER for whisper-large-v2: 0.37\n",
      "WER for whisper-small: 0.41\n",
      "WER for whisper-medium: 0.37\n"
     ]
    }
   ],
   "source": [
    "# Load reference transcripts with punctuation and capitals removed.\n",
    "# This seems most fitting for Dutch Whisper model fine-tuned for older individuals, as it \n",
    "# does not predict punctuation and capitals, but does predict fillers\n",
    "reference_norm = read_reference_transcripts('data/reference_transcripts/normalized')\n",
    "\n",
    "for m in [m.split('/')[-1] for m in MODELS]:\n",
    "    wer = wer_metric.compute(references=reference_norm, predictions=read_asr_transcripts()[m])\n",
    "    print(f\"WER for {m}: {wer:.2f}\")"
   ]
  },
  {
   "cell_type": "markdown",
   "metadata": {},
   "source": [
    "# Simple stats"
   ]
  },
  {
   "cell_type": "code",
   "execution_count": 5,
   "metadata": {},
   "outputs": [
    {
     "name": "stdout",
     "output_type": "stream",
     "text": [
      "Total words orthographic_clean: 1960\n",
      "Total words normalized: 2033\n",
      "Total minutes duration segments: 11.15\n"
     ]
    }
   ],
   "source": [
    "# What is the size of the dataset?\n",
    "print(f\"Total words orthographic_clean: {count_total_words('data/reference_transcripts/orthographic_clean')}\")\n",
    "print(f\"Total words normalized: {count_total_words('data/reference_transcripts/normalized')}\")\n",
    "print(f\"Total minutes duration segments: {get_total_audio_duration('output/segments')/60:.2f}\")"
   ]
  },
  {
   "cell_type": "code",
   "execution_count": null,
   "metadata": {},
   "outputs": [],
   "source": []
  }
 ],
 "metadata": {
  "kernelspec": {
   "display_name": "venv",
   "language": "python",
   "name": "python3"
  },
  "language_info": {
   "codemirror_mode": {
    "name": "ipython",
    "version": 3
   },
   "file_extension": ".py",
   "mimetype": "text/x-python",
   "name": "python",
   "nbconvert_exporter": "python",
   "pygments_lexer": "ipython3",
   "version": "3.12.9"
  }
 },
 "nbformat": 4,
 "nbformat_minor": 2
}
